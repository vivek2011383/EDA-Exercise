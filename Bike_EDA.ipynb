{
 "cells": [
  {
   "cell_type": "code",
   "execution_count": 169,
   "id": "b9a7cf78",
   "metadata": {},
   "outputs": [],
   "source": [
    "import numpy as np\n",
    "import pandas as pd\n",
    "import matplotlib.pyplot as plt\n",
    "import seaborn as sns"
   ]
  },
  {
   "cell_type": "code",
   "execution_count": 170,
   "metadata": {},
   "outputs": [],
   "source": [
    "df = pd.read_csv(\"https://raw.githubusercontent.com/vivek2011383/EDA-Exercise/refs/heads/main/BIKE%20DETAILS.csv\")"
   ]
  },
  {
   "cell_type": "code",
   "execution_count": 171,
   "metadata": {},
   "outputs": [
    {
     "data": {
      "text/html": [
       "<div>\n",
       "<style scoped>\n",
       "    .dataframe tbody tr th:only-of-type {\n",
       "        vertical-align: middle;\n",
       "    }\n",
       "\n",
       "    .dataframe tbody tr th {\n",
       "        vertical-align: top;\n",
       "    }\n",
       "\n",
       "    .dataframe thead th {\n",
       "        text-align: right;\n",
       "    }\n",
       "</style>\n",
       "<table border=\"1\" class=\"dataframe\">\n",
       "  <thead>\n",
       "    <tr style=\"text-align: right;\">\n",
       "      <th></th>\n",
       "      <th>name</th>\n",
       "      <th>selling_price</th>\n",
       "      <th>year</th>\n",
       "      <th>seller_type</th>\n",
       "      <th>owner</th>\n",
       "      <th>km_driven</th>\n",
       "      <th>ex_showroom_price</th>\n",
       "    </tr>\n",
       "  </thead>\n",
       "  <tbody>\n",
       "    <tr>\n",
       "      <th>0</th>\n",
       "      <td>Royal Enfield Classic 350</td>\n",
       "      <td>175000</td>\n",
       "      <td>2019</td>\n",
       "      <td>Individual</td>\n",
       "      <td>1st owner</td>\n",
       "      <td>350</td>\n",
       "      <td>NaN</td>\n",
       "    </tr>\n",
       "    <tr>\n",
       "      <th>1</th>\n",
       "      <td>Honda Dio</td>\n",
       "      <td>45000</td>\n",
       "      <td>2017</td>\n",
       "      <td>Individual</td>\n",
       "      <td>1st owner</td>\n",
       "      <td>5650</td>\n",
       "      <td>NaN</td>\n",
       "    </tr>\n",
       "    <tr>\n",
       "      <th>2</th>\n",
       "      <td>Royal Enfield Classic Gunmetal Grey</td>\n",
       "      <td>150000</td>\n",
       "      <td>2018</td>\n",
       "      <td>Individual</td>\n",
       "      <td>1st owner</td>\n",
       "      <td>12000</td>\n",
       "      <td>148114.0</td>\n",
       "    </tr>\n",
       "    <tr>\n",
       "      <th>3</th>\n",
       "      <td>Yamaha Fazer FI V 2.0 [2016-2018]</td>\n",
       "      <td>65000</td>\n",
       "      <td>2015</td>\n",
       "      <td>Individual</td>\n",
       "      <td>1st owner</td>\n",
       "      <td>23000</td>\n",
       "      <td>89643.0</td>\n",
       "    </tr>\n",
       "    <tr>\n",
       "      <th>4</th>\n",
       "      <td>Yamaha SZ [2013-2014]</td>\n",
       "      <td>20000</td>\n",
       "      <td>2011</td>\n",
       "      <td>Individual</td>\n",
       "      <td>2nd owner</td>\n",
       "      <td>21000</td>\n",
       "      <td>NaN</td>\n",
       "    </tr>\n",
       "  </tbody>\n",
       "</table>\n",
       "</div>"
      ],
      "text/plain": [
       "                                  name  selling_price  year seller_type  \\\n",
       "0            Royal Enfield Classic 350         175000  2019  Individual   \n",
       "1                            Honda Dio          45000  2017  Individual   \n",
       "2  Royal Enfield Classic Gunmetal Grey         150000  2018  Individual   \n",
       "3    Yamaha Fazer FI V 2.0 [2016-2018]          65000  2015  Individual   \n",
       "4                Yamaha SZ [2013-2014]          20000  2011  Individual   \n",
       "\n",
       "       owner  km_driven  ex_showroom_price  \n",
       "0  1st owner        350                NaN  \n",
       "1  1st owner       5650                NaN  \n",
       "2  1st owner      12000           148114.0  \n",
       "3  1st owner      23000            89643.0  \n",
       "4  2nd owner      21000                NaN  "
      ]
     },
     "execution_count": 171,
     "metadata": {},
     "output_type": "execute_result"
    }
   ],
   "source": [
    "df.head()"
   ]
  },
  {
   "cell_type": "code",
   "execution_count": 172,
   "metadata": {},
   "outputs": [
    {
     "data": {
      "text/plain": [
       "(1061, 7)"
      ]
     },
     "execution_count": 172,
     "metadata": {},
     "output_type": "execute_result"
    }
   ],
   "source": [
    "df.shape"
   ]
  },
  {
   "cell_type": "code",
   "execution_count": 173,
   "metadata": {},
   "outputs": [
    {
     "data": {
      "text/plain": [
       "name                  object\n",
       "selling_price          int64\n",
       "year                   int64\n",
       "seller_type           object\n",
       "owner                 object\n",
       "km_driven              int64\n",
       "ex_showroom_price    float64\n",
       "dtype: object"
      ]
     },
     "execution_count": 173,
     "metadata": {},
     "output_type": "execute_result"
    }
   ],
   "source": [
    "df.dtypes"
   ]
  },
  {
   "cell_type": "code",
   "execution_count": 174,
   "metadata": {},
   "outputs": [
    {
     "name": "stdout",
     "output_type": "stream",
     "text": [
      "Minimum Selling Price:  5000\n",
      "Maxmum Selling Price:  760000\n",
      "Range: (5000,760000)\n"
     ]
    }
   ],
   "source": [
    "#1. What is the range of selling prices in the dataset?\n",
    "\n",
    "print(\"Minimum Selling Price: \", df.selling_price.min())\n",
    "print(\"Maxmum Selling Price: \", df.selling_price.max())\n",
    "print(f\"Range: ({df.selling_price.min()},{ df.selling_price.max()})\")"
   ]
  },
  {
   "cell_type": "code",
   "execution_count": 175,
   "metadata": {},
   "outputs": [
    {
     "name": "stdout",
     "output_type": "stream",
     "text": [
      "Median Selling Price:  45000.0\n"
     ]
    }
   ],
   "source": [
    "#2. What is the median selling price for bikes in the dataset?\n",
    "\n",
    "print(\"Median Selling Price: \", df.selling_price.median())"
   ]
  },
  {
   "cell_type": "code",
   "execution_count": 176,
   "metadata": {},
   "outputs": [
    {
     "name": "stdout",
     "output_type": "stream",
     "text": [
      "Most common seller type:  Individual\n"
     ]
    }
   ],
   "source": [
    "#3. What is the most common seller type?\n",
    "\n",
    "print(\"Most common seller type: \", df.seller_type.mode()[0])"
   ]
  },
  {
   "cell_type": "code",
   "execution_count": 177,
   "id": "77d8135f",
   "metadata": {},
   "outputs": [
    {
     "name": "stdout",
     "output_type": "stream",
     "text": [
      "Bikes that have driven more than 50000 kilometers:  170\n"
     ]
    }
   ],
   "source": [
    "#4.  How many bikes have driven more than 50,000 kilometers?\n",
    "\n",
    "print(\"Bikes that have driven more than 50000 kilometers: \", df[df.km_driven > 50000].shape[0])"
   ]
  },
  {
   "cell_type": "code",
   "execution_count": 178,
   "id": "e569a5c5",
   "metadata": {},
   "outputs": [
    {
     "data": {
      "text/plain": [
       "owner\n",
       "1st owner     32816.583333\n",
       "2nd owner     39288.991870\n",
       "3rd owner     33292.181818\n",
       "4th owner    311500.000000\n",
       "Name: km_driven, dtype: float64"
      ]
     },
     "execution_count": 178,
     "metadata": {},
     "output_type": "execute_result"
    }
   ],
   "source": [
    "#5. What is the average km_driven value for each ownership type?\n",
    "\n",
    "df.groupby(\"owner\")[\"km_driven\"].mean()"
   ]
  },
  {
   "cell_type": "code",
   "execution_count": 179,
   "id": "1c3eff65",
   "metadata": {},
   "outputs": [
    {
     "name": "stdout",
     "output_type": "stream",
     "text": [
      "Proportion of bikes from 2015 or older:  0.57\n"
     ]
    }
   ],
   "source": [
    "#6. What proportion of bikes are from the year 2015 or older?\n",
    "\n",
    "x = len(df[df[\"year\"] <=2015])/len(df)\n",
    "print(\"Proportion of bikes from 2015 or older: \", round(x, 2))"
   ]
  },
  {
   "cell_type": "code",
   "execution_count": 180,
   "id": "f94ef147",
   "metadata": {},
   "outputs": [
    {
     "data": {
      "text/plain": [
       "name                   0\n",
       "selling_price          0\n",
       "year                   0\n",
       "seller_type            0\n",
       "owner                  0\n",
       "km_driven              0\n",
       "ex_showroom_price    435\n",
       "dtype: int64"
      ]
     },
     "execution_count": 180,
     "metadata": {},
     "output_type": "execute_result"
    }
   ],
   "source": [
    "#7. What is the trend of missing values across the dataset?\n",
    "\n",
    "df.isnull().sum()"
   ]
  },
  {
   "cell_type": "code",
   "execution_count": 181,
   "id": "195ce0b8",
   "metadata": {},
   "outputs": [
    {
     "name": "stderr",
     "output_type": "stream",
     "text": [
      "C:\\Users\\vk201\\AppData\\Local\\Temp\\ipykernel_8996\\297325701.py:2: FutureWarning: A value is trying to be set on a copy of a DataFrame or Series through chained assignment using an inplace method.\n",
      "The behavior will change in pandas 3.0. This inplace method will never work because the intermediate object on which we are setting values always behaves as a copy.\n",
      "\n",
      "For example, when doing 'df[col].method(value, inplace=True)', try using 'df.method({col: value}, inplace=True)' or df[col] = df[col].method(value) instead, to perform the operation inplace on the original object.\n",
      "\n",
      "\n",
      "  df.ex_showroom_price.fillna(df.ex_showroom_price.mean(), inplace= True)\n"
     ]
    }
   ],
   "source": [
    "#Missing value treatment\n",
    "df.ex_showroom_price.fillna(df.ex_showroom_price.mean(), inplace= True)"
   ]
  },
  {
   "cell_type": "code",
   "execution_count": 182,
   "id": "a1be7c98",
   "metadata": {},
   "outputs": [
    {
     "name": "stdout",
     "output_type": "stream",
     "text": [
      "The highest ex_showroom_price recorded:  1278000.0\n",
      "Bike with highest ex_showroom_price:  Harley-Davidson Street Bob\n"
     ]
    }
   ],
   "source": [
    "#8. What is the highest ex_showroom_price recorded, and for which bike?\n",
    "\n",
    "print(\"The highest ex_showroom_price recorded: \", df.ex_showroom_price.max())\n",
    "print(\"Bike with highest ex_showroom_price: \" ,df[df.ex_showroom_price == df.ex_showroom_price.max()].name.values[0])"
   ]
  },
  {
   "cell_type": "code",
   "execution_count": 183,
   "id": "5fc7d64c",
   "metadata": {},
   "outputs": [
    {
     "data": {
      "text/plain": [
       "seller_type\n",
       "Individual    1055\n",
       "Dealer           6\n",
       "Name: count, dtype: int64"
      ]
     },
     "execution_count": 183,
     "metadata": {},
     "output_type": "execute_result"
    }
   ],
   "source": [
    "#9. What is the total number of bikes listed by each seller type?\n",
    "\n",
    "df[\"seller_type\"].value_counts()"
   ]
  },
  {
   "cell_type": "code",
   "execution_count": 184,
   "id": "5aed4c7d",
   "metadata": {},
   "outputs": [
    {
     "name": "stdout",
     "output_type": "stream",
     "text": [
      "Correlation between selling_price and km_driven (First Owner bikes):  -0.24\n"
     ]
    },
    {
     "data": {
      "image/png": "[encoded data removed]",
      "text/plain": [
       "<Figure size 640x480 with 1 Axes>"
      ]
     },
     "metadata": {},
     "output_type": "display_data"
    }
   ],
   "source": [
    "#10. What is the relationship between selling_price and km_driven for first-owner bikes?\n",
    "\n",
    "first_owner_data = df[df[\"owner\"] == \"1st owner\"]\n",
    "\n",
    "correlation = first_owner_data[\"selling_price\"].corr(first_owner_data[\"km_driven\"])\n",
    "\n",
    "print(\"Correlation between selling_price and km_driven (First Owner bikes): \", round(correlation, 2))\n",
    "\n",
    "plt.scatter(first_owner_data[\"km_driven\"], first_owner_data[\"selling_price\"])\n",
    "plt.title(\"Selling Price vs KM Driven (for First Owners)\")\n",
    "plt.xlabel(\"KM Driven\")\n",
    "plt.ylabel(\"Selling Price\")\n",
    "plt.grid(True)\n",
    "plt.show()"
   ]
  },
  {
   "cell_type": "code",
   "execution_count": 185,
   "id": "a79850a7",
   "metadata": {},
   "outputs": [
    {
     "name": "stdout",
     "output_type": "stream",
     "text": [
      "IQR: 29500.0, Lower Bound: -30750.0, Upper Bound: 87250.0\n",
      "\n",
      "Data without outliers:\n"
     ]
    },
    {
     "data": {
      "text/html": [
       "<div>\n",
       "<style scoped>\n",
       "    .dataframe tbody tr th:only-of-type {\n",
       "        vertical-align: middle;\n",
       "    }\n",
       "\n",
       "    .dataframe tbody tr th {\n",
       "        vertical-align: top;\n",
       "    }\n",
       "\n",
       "    .dataframe thead th {\n",
       "        text-align: right;\n",
       "    }\n",
       "</style>\n",
       "<table border=\"1\" class=\"dataframe\">\n",
       "  <thead>\n",
       "    <tr style=\"text-align: right;\">\n",
       "      <th></th>\n",
       "      <th>name</th>\n",
       "      <th>selling_price</th>\n",
       "      <th>year</th>\n",
       "      <th>seller_type</th>\n",
       "      <th>owner</th>\n",
       "      <th>km_driven</th>\n",
       "      <th>ex_showroom_price</th>\n",
       "    </tr>\n",
       "  </thead>\n",
       "  <tbody>\n",
       "    <tr>\n",
       "      <th>0</th>\n",
       "      <td>Royal Enfield Classic 350</td>\n",
       "      <td>175000</td>\n",
       "      <td>2019</td>\n",
       "      <td>Individual</td>\n",
       "      <td>1st owner</td>\n",
       "      <td>350</td>\n",
       "      <td>87958.714058</td>\n",
       "    </tr>\n",
       "    <tr>\n",
       "      <th>1</th>\n",
       "      <td>Honda Dio</td>\n",
       "      <td>45000</td>\n",
       "      <td>2017</td>\n",
       "      <td>Individual</td>\n",
       "      <td>1st owner</td>\n",
       "      <td>5650</td>\n",
       "      <td>87958.714058</td>\n",
       "    </tr>\n",
       "    <tr>\n",
       "      <th>2</th>\n",
       "      <td>Royal Enfield Classic Gunmetal Grey</td>\n",
       "      <td>150000</td>\n",
       "      <td>2018</td>\n",
       "      <td>Individual</td>\n",
       "      <td>1st owner</td>\n",
       "      <td>12000</td>\n",
       "      <td>148114.000000</td>\n",
       "    </tr>\n",
       "    <tr>\n",
       "      <th>3</th>\n",
       "      <td>Yamaha Fazer FI V 2.0 [2016-2018]</td>\n",
       "      <td>65000</td>\n",
       "      <td>2015</td>\n",
       "      <td>Individual</td>\n",
       "      <td>1st owner</td>\n",
       "      <td>23000</td>\n",
       "      <td>89643.000000</td>\n",
       "    </tr>\n",
       "    <tr>\n",
       "      <th>4</th>\n",
       "      <td>Yamaha SZ [2013-2014]</td>\n",
       "      <td>20000</td>\n",
       "      <td>2011</td>\n",
       "      <td>Individual</td>\n",
       "      <td>2nd owner</td>\n",
       "      <td>21000</td>\n",
       "      <td>87958.714058</td>\n",
       "    </tr>\n",
       "    <tr>\n",
       "      <th>...</th>\n",
       "      <td>...</td>\n",
       "      <td>...</td>\n",
       "      <td>...</td>\n",
       "      <td>...</td>\n",
       "      <td>...</td>\n",
       "      <td>...</td>\n",
       "      <td>...</td>\n",
       "    </tr>\n",
       "    <tr>\n",
       "      <th>1054</th>\n",
       "      <td>Hero  CBZ Xtreme</td>\n",
       "      <td>20000</td>\n",
       "      <td>2010</td>\n",
       "      <td>Individual</td>\n",
       "      <td>1st owner</td>\n",
       "      <td>50000</td>\n",
       "      <td>78700.000000</td>\n",
       "    </tr>\n",
       "    <tr>\n",
       "      <th>1055</th>\n",
       "      <td>Bajaj  ct 100</td>\n",
       "      <td>18000</td>\n",
       "      <td>2017</td>\n",
       "      <td>Individual</td>\n",
       "      <td>1st owner</td>\n",
       "      <td>35000</td>\n",
       "      <td>32000.000000</td>\n",
       "    </tr>\n",
       "    <tr>\n",
       "      <th>1057</th>\n",
       "      <td>Honda CB twister</td>\n",
       "      <td>16000</td>\n",
       "      <td>2012</td>\n",
       "      <td>Individual</td>\n",
       "      <td>1st owner</td>\n",
       "      <td>33000</td>\n",
       "      <td>51000.000000</td>\n",
       "    </tr>\n",
       "    <tr>\n",
       "      <th>1058</th>\n",
       "      <td>Bajaj Discover 125</td>\n",
       "      <td>15000</td>\n",
       "      <td>2013</td>\n",
       "      <td>Individual</td>\n",
       "      <td>2nd owner</td>\n",
       "      <td>35000</td>\n",
       "      <td>57000.000000</td>\n",
       "    </tr>\n",
       "    <tr>\n",
       "      <th>1059</th>\n",
       "      <td>Honda CB Shine</td>\n",
       "      <td>12000</td>\n",
       "      <td>2009</td>\n",
       "      <td>Individual</td>\n",
       "      <td>1st owner</td>\n",
       "      <td>53000</td>\n",
       "      <td>58000.000000</td>\n",
       "    </tr>\n",
       "  </tbody>\n",
       "</table>\n",
       "<p>1022 rows × 7 columns</p>\n",
       "</div>"
      ],
      "text/plain": [
       "                                     name  selling_price  year seller_type  \\\n",
       "0               Royal Enfield Classic 350         175000  2019  Individual   \n",
       "1                               Honda Dio          45000  2017  Individual   \n",
       "2     Royal Enfield Classic Gunmetal Grey         150000  2018  Individual   \n",
       "3       Yamaha Fazer FI V 2.0 [2016-2018]          65000  2015  Individual   \n",
       "4                   Yamaha SZ [2013-2014]          20000  2011  Individual   \n",
       "...                                   ...            ...   ...         ...   \n",
       "1054                     Hero  CBZ Xtreme          20000  2010  Individual   \n",
       "1055                        Bajaj  ct 100          18000  2017  Individual   \n",
       "1057                     Honda CB twister          16000  2012  Individual   \n",
       "1058                   Bajaj Discover 125          15000  2013  Individual   \n",
       "1059                       Honda CB Shine          12000  2009  Individual   \n",
       "\n",
       "          owner  km_driven  ex_showroom_price  \n",
       "0     1st owner        350       87958.714058  \n",
       "1     1st owner       5650       87958.714058  \n",
       "2     1st owner      12000      148114.000000  \n",
       "3     1st owner      23000       89643.000000  \n",
       "4     2nd owner      21000       87958.714058  \n",
       "...         ...        ...                ...  \n",
       "1054  1st owner      50000       78700.000000  \n",
       "1055  1st owner      35000       32000.000000  \n",
       "1057  1st owner      33000       51000.000000  \n",
       "1058  2nd owner      35000       57000.000000  \n",
       "1059  1st owner      53000       58000.000000  \n",
       "\n",
       "[1022 rows x 7 columns]"
      ]
     },
     "execution_count": 185,
     "metadata": {},
     "output_type": "execute_result"
    }
   ],
   "source": [
    "#11. Identify and remove outliers in the km_driven column using the IQR method.\n",
    "\n",
    "Q1 = df[\"km_driven\"].quantile(0.25)\n",
    "Q3 = df[\"km_driven\"].quantile(0.75)\n",
    "\n",
    "IQR = Q3 -Q1\n",
    "\n",
    "lower_bound = Q1 - 1.5 * IQR\n",
    "upper_bound = Q3 + 1.5 * IQR\n",
    "\n",
    "print(f\"IQR: {IQR}, Lower Bound: {lower_bound}, Upper Bound: {upper_bound}\")\n",
    "\n",
    "filtered_km_df = df[(df['km_driven'] >= lower_bound) & (df['km_driven'] <= upper_bound)]\n",
    "\n",
    "print(\"\\nData without outliers:\")\n",
    "filtered_km_df"
   ]
  },
  {
   "cell_type": "code",
   "execution_count": 186,
   "id": "d355839d",
   "metadata": {},
   "outputs": [
    {
     "data": {
      "image/png": "[encoded data removed]",
      "text/plain": [
       "<Figure size 800x500 with 1 Axes>"
      ]
     },
     "metadata": {},
     "output_type": "display_data"
    }
   ],
   "source": [
    "#12. Perform a bivariate analysis to visualize the relationship between year and selling_price.\n",
    "\n",
    "sns.set_theme(style=\"darkgrid\")\n",
    "plt.figure(figsize=(8, 5))\n",
    "sns.scatterplot(x='year', y='selling_price', data=df, s=100, color='dodgerblue')\n",
    "\n",
    "plt.title('Selling Price vs Year of Manufacture')\n",
    "plt.xlabel('Year')\n",
    "plt.ylabel('Selling Price')\n",
    "plt.tight_layout()\n",
    "plt.show()"
   ]
  },
  {
   "cell_type": "code",
   "execution_count": 187,
   "id": "be8c2589",
   "metadata": {},
   "outputs": [],
   "source": [
    "df_copy = df.copy()"
   ]
  },
  {
   "cell_type": "code",
   "execution_count": 189,
   "id": "d7a56aea",
   "metadata": {},
   "outputs": [
    {
     "name": "stdout",
     "output_type": "stream",
     "text": [
      "Average Depreciation:  2696.34\n"
     ]
    }
   ],
   "source": [
    "#13.What is the average depreciation in selling price based on the bike's age (current year - manufacturing year)?\n",
    "\n",
    "#Age calculation\n",
    "df_copy[\"bike_age\"] = 2025 - df_copy[\"year\"]\n",
    "\n",
    "df_copy[\"depreciation\"] = df_copy[\"ex_showroom_price\"] - df_copy[\"selling_price\"]\n",
    "\n",
    "\n",
    "#Outliers in Selling price\n",
    "Q1 = df_copy[\"depreciation\"].quantile(0.25)\n",
    "Q3 = df_copy[\"depreciation\"].quantile(0.75)\n",
    "\n",
    "IQR = Q3 -Q1\n",
    "\n",
    "lower_bound = Q1 - 1.5 * IQR\n",
    "upper_bound = Q3 + 1.5 * IQR\n",
    "\n",
    "\n",
    "df_copy = df_copy[(df_copy['depreciation'] >= lower_bound) & (df_copy['depreciation'] <= upper_bound)]\n",
    "\n",
    "\n",
    "#depreciation_per_year\n",
    "df_copy['depreciation_per_year'] = df_copy['depreciation'] / df_copy['bike_age']\n",
    "\n",
    "\n",
    "#Average depreciation per year\n",
    "average_depreciation = df_copy['depreciation_per_year'].mean()\n",
    "print(\"Average Depreciation: \", average_depreciation.__round__(2))\n"
   ]
  },
  {
   "cell_type": "code",
   "execution_count": 190,
   "id": "3ffa36a5",
   "metadata": {},
   "outputs": [],
   "source": [
    "#14. Which bike names are priced significantly above the average price for their manufacturing year?\n",
    "\n",
    "avg_by_year = df.groupby('year')['selling_price'].mean().reset_index()\n",
    "avg_by_year.rename(columns={\"selling_price\": \"avg_price_for_year\"}, inplace= True)\n",
    "\n",
    "\n",
    "df = df.merge(avg_by_year, on='year')"
   ]
  },
  {
   "cell_type": "code",
   "execution_count": 191,
   "id": "d00f942a",
   "metadata": {},
   "outputs": [
    {
     "name": "stdout",
     "output_type": "stream",
     "text": [
      "Bikes priced significantly above average for their year:\n"
     ]
    },
    {
     "data": {
      "text/html": [
       "<div>\n",
       "<style scoped>\n",
       "    .dataframe tbody tr th:only-of-type {\n",
       "        vertical-align: middle;\n",
       "    }\n",
       "\n",
       "    .dataframe tbody tr th {\n",
       "        vertical-align: top;\n",
       "    }\n",
       "\n",
       "    .dataframe thead th {\n",
       "        text-align: right;\n",
       "    }\n",
       "</style>\n",
       "<table border=\"1\" class=\"dataframe\">\n",
       "  <thead>\n",
       "    <tr style=\"text-align: right;\">\n",
       "      <th></th>\n",
       "      <th>name</th>\n",
       "      <th>year</th>\n",
       "      <th>selling_price</th>\n",
       "      <th>avg_price_for_year</th>\n",
       "      <th>price_diff_percent</th>\n",
       "    </tr>\n",
       "  </thead>\n",
       "  <tbody>\n",
       "    <tr>\n",
       "      <th>0</th>\n",
       "      <td>Royal Enfield Classic 350</td>\n",
       "      <td>2019</td>\n",
       "      <td>175000</td>\n",
       "      <td>119689.511628</td>\n",
       "      <td>46.211642</td>\n",
       "    </tr>\n",
       "    <tr>\n",
       "      <th>2</th>\n",
       "      <td>Royal Enfield Classic Gunmetal Grey</td>\n",
       "      <td>2018</td>\n",
       "      <td>150000</td>\n",
       "      <td>87660.374046</td>\n",
       "      <td>71.114944</td>\n",
       "    </tr>\n",
       "    <tr>\n",
       "      <th>7</th>\n",
       "      <td>Royal Enfield Bullet 350 [2007-2011]</td>\n",
       "      <td>2008</td>\n",
       "      <td>180000</td>\n",
       "      <td>34289.285714</td>\n",
       "      <td>424.945318</td>\n",
       "    </tr>\n",
       "    <tr>\n",
       "      <th>13</th>\n",
       "      <td>Yamaha YZF R3</td>\n",
       "      <td>2019</td>\n",
       "      <td>365000</td>\n",
       "      <td>119689.511628</td>\n",
       "      <td>204.955710</td>\n",
       "    </tr>\n",
       "    <tr>\n",
       "      <th>17</th>\n",
       "      <td>Yamaha YZF R15 S</td>\n",
       "      <td>2010</td>\n",
       "      <td>40000</td>\n",
       "      <td>31793.333333</td>\n",
       "      <td>25.812539</td>\n",
       "    </tr>\n",
       "    <tr>\n",
       "      <th>...</th>\n",
       "      <td>...</td>\n",
       "      <td>...</td>\n",
       "      <td>...</td>\n",
       "      <td>...</td>\n",
       "      <td>...</td>\n",
       "    </tr>\n",
       "    <tr>\n",
       "      <th>984</th>\n",
       "      <td>Royal Enfield Classic 500</td>\n",
       "      <td>2014</td>\n",
       "      <td>95000</td>\n",
       "      <td>48668.131868</td>\n",
       "      <td>95.199603</td>\n",
       "    </tr>\n",
       "    <tr>\n",
       "      <th>985</th>\n",
       "      <td>Royal Enfield Classic 500</td>\n",
       "      <td>2011</td>\n",
       "      <td>90000</td>\n",
       "      <td>35655.721311</td>\n",
       "      <td>152.413909</td>\n",
       "    </tr>\n",
       "    <tr>\n",
       "      <th>1005</th>\n",
       "      <td>TVS Apache RTR 160</td>\n",
       "      <td>2014</td>\n",
       "      <td>60000</td>\n",
       "      <td>48668.131868</td>\n",
       "      <td>23.283960</td>\n",
       "    </tr>\n",
       "    <tr>\n",
       "      <th>1008</th>\n",
       "      <td>Bajaj Pulsar 220 F</td>\n",
       "      <td>2012</td>\n",
       "      <td>52000</td>\n",
       "      <td>35748.400000</td>\n",
       "      <td>45.461056</td>\n",
       "    </tr>\n",
       "    <tr>\n",
       "      <th>1023</th>\n",
       "      <td>Bajaj Avenger 220 dtsi</td>\n",
       "      <td>2012</td>\n",
       "      <td>45000</td>\n",
       "      <td>35748.400000</td>\n",
       "      <td>25.879760</td>\n",
       "    </tr>\n",
       "  </tbody>\n",
       "</table>\n",
       "<p>233 rows × 5 columns</p>\n",
       "</div>"
      ],
      "text/plain": [
       "                                      name  year  selling_price  \\\n",
       "0                Royal Enfield Classic 350  2019         175000   \n",
       "2      Royal Enfield Classic Gunmetal Grey  2018         150000   \n",
       "7     Royal Enfield Bullet 350 [2007-2011]  2008         180000   \n",
       "13                           Yamaha YZF R3  2019         365000   \n",
       "17                        Yamaha YZF R15 S  2010          40000   \n",
       "...                                    ...   ...            ...   \n",
       "984              Royal Enfield Classic 500  2014          95000   \n",
       "985              Royal Enfield Classic 500  2011          90000   \n",
       "1005                    TVS Apache RTR 160  2014          60000   \n",
       "1008                    Bajaj Pulsar 220 F  2012          52000   \n",
       "1023                Bajaj Avenger 220 dtsi  2012          45000   \n",
       "\n",
       "      avg_price_for_year  price_diff_percent  \n",
       "0          119689.511628           46.211642  \n",
       "2           87660.374046           71.114944  \n",
       "7           34289.285714          424.945318  \n",
       "13         119689.511628          204.955710  \n",
       "17          31793.333333           25.812539  \n",
       "...                  ...                 ...  \n",
       "984         48668.131868           95.199603  \n",
       "985         35655.721311          152.413909  \n",
       "1005        48668.131868           23.283960  \n",
       "1008        35748.400000           45.461056  \n",
       "1023        35748.400000           25.879760  \n",
       "\n",
       "[233 rows x 5 columns]"
      ]
     },
     "execution_count": 191,
     "metadata": {},
     "output_type": "execute_result"
    }
   ],
   "source": [
    "#Identify bikes priced 20%+ above their year average\n",
    "df['price_diff_percent'] = ((df['selling_price'] - df['avg_price_for_year']) / df['avg_price_for_year']) * 100\n",
    "above_avg_bikes = df[df['price_diff_percent'] > 20]\n",
    "\n",
    "print(\"Bikes priced significantly above average for their year:\")\n",
    "above_avg_bikes[['name', 'year', 'selling_price', 'avg_price_for_year', 'price_diff_percent']]"
   ]
  },
  {
   "cell_type": "code",
   "execution_count": 194,
   "id": "50c96b18",
   "metadata": {},
   "outputs": [
    {
     "data": {
      "image/png": "[encoded data removed]",
      "text/plain": [
       "<Figure size 800x600 with 2 Axes>"
      ]
     },
     "metadata": {},
     "output_type": "display_data"
    }
   ],
   "source": [
    "#15. Develop a correlation matrix for numeric columns and visualize it using a heatmap?\n",
    "\n",
    "numeric_cols = ['selling_price', 'year', 'km_driven', 'ex_showroom_price']\n",
    "\n",
    "corr_matrix = df[numeric_cols].corr()\n",
    "\n",
    "plt.figure(figsize=(8, 6))\n",
    "sns.heatmap(corr_matrix, annot=True, cmap='coolwarm', fmt=\".2f\", square=True)\n",
    "plt.title(\"Correlation Matrix (Numeric Columns Only)\")\n",
    "plt.tight_layout()\n",
    "plt.show()"
   ]
  }
 ],
 "metadata": {
  "kernelspec": {
   "display_name": "Python 3",
   "language": "python",
   "name": "python3"
  },
  "language_info": {
   "codemirror_mode": {
    "name": "ipython",
    "version": 3
   },
   "file_extension": ".py",
   "mimetype": "text/x-python",
   "name": "python",
   "nbconvert_exporter": "python",
   "pygments_lexer": "ipython3",
   "version": "3.13.2"
  }
 },
 "nbformat": 4,
 "nbformat_minor": 5
}
